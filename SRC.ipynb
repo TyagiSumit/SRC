{
  "nbformat": 4,
  "nbformat_minor": 0,
  "metadata": {
    "colab": {
      "name": "SRC.ipynb",
      "provenance": [],
      "collapsed_sections": []
    },
    "kernelspec": {
      "name": "python3",
      "display_name": "Python 3"
    }
  },
  "cells": [
    {
      "cell_type": "code",
      "metadata": {
        "id": "rgCz1Yqa2qYj"
      },
      "source": [
        "import numpy as np\n",
        "import pandas as pd\n",
        "from sklearn.linear_model import Lasso\n",
        "from sklearn.model_selection import train_test_split\n",
        "import math\n",
        "from sklearn.metrics import accuracy_score\n",
        "from sklearn.decomposition import SparseCoder\n",
        "from sklearn.model_selection import KFold\n",
        "from sklearn.preprocessing import StandardScaler\n",
        "import matplotlib.pyplot as plt\n",
        "import seaborn as sns\n",
        "from sklearn.preprocessing import LabelEncoder"
      ],
      "execution_count": 1,
      "outputs": []
    },
    {
      "cell_type": "markdown",
      "metadata": {
        "id": "5JPd_2bz_5mj"
      },
      "source": [
        "# Iris Dataset"
      ]
    },
    {
      "cell_type": "code",
      "metadata": {
        "id": "Xja25yMR-Puq",
        "colab": {
          "base_uri": "https://localhost:8080/",
          "height": 437
        },
        "outputId": "d19e2e2f-2eda-4080-fc9f-35a426e1c430"
      },
      "source": [
        "df = pd.read_csv('Iris.csv').drop('Id', axis = 1)\n",
        "df[['SepalLengthCm', 'SepalWidthCm', 'PetalLengthCm', 'PetalWidthCm',]] = StandardScaler().fit_transform(df[['SepalLengthCm', 'SepalWidthCm', 'PetalLengthCm', 'PetalWidthCm',]])\n",
        "cf = KFold(n_splits=5)\n",
        "score = dict()\n",
        "fold = 1\n",
        "for train_index, test_index in cf.split(df):\n",
        "  train, test = df.loc[train_index], df.loc[test_index]# train_test_split(df, random_state = 58)\n",
        "  train = train.set_index('Species')\n",
        "  test = test.set_index('Species')\n",
        "  clf = Lasso(alpha=0.20999999999999996)\n",
        "  clf.fit(train.T, test.T)\n",
        "  alpha = clf.coef_\n",
        "\n",
        "  class_alphas = dict()\n",
        "  features = set((train.index.values))\n",
        "  for class_name in train.index.values:\n",
        "    train_t = train.copy()\n",
        "    features.remove(class_name)\n",
        "    train_t.loc[list(features), train_t.columns] = [0 for i in range(train_t.loc[class_name, train_t.columns].shape[1])]\n",
        "    features.add(class_name)\n",
        "    class_alphas[class_name] = np.dot(train_t.T, alpha.T)\n",
        "\n",
        "\n",
        "  Y_pred = []\n",
        "  for i in range(test.values.shape[0]):\n",
        "    closest_class = None\n",
        "    min_dist = math.inf\n",
        "    for k, v in class_alphas.items():\n",
        "      d = ((test.values[i] - class_alphas[k].T[i])**2).sum()**0.5 \n",
        "      if d < min_dist:\n",
        "        closest_class = k\n",
        "        min_dist = d\n",
        "    Y_pred.append(closest_class)\n",
        "  score_1 = (np.array(Y_pred) == test.index.values).sum() / test.shape[0]\n",
        "  score[fold] = score_1\n",
        "  fold += 1\n",
        "\n",
        "print(\"Fold | Score\")\n",
        "for k, v in score.items():\n",
        "  print(k,\"    \", v)\n",
        "\n",
        "sns.lineplot(x=list(score.keys()), y=list(score.values()), marker=\"o\")\n",
        "plt.title(\"5 Fold Cross validation Score on Iris\")\n",
        "plt.show()\n",
        "\n"
      ],
      "execution_count": 8,
      "outputs": [
        {
          "output_type": "stream",
          "text": [
            "/usr/local/lib/python3.7/dist-packages/sklearn/model_selection/_split.py:296: FutureWarning: Setting a random_state has no effect since shuffle is False. This will raise an error in 0.24. You should leave random_state to its default (None), or set shuffle=True.\n",
            "  FutureWarning\n"
          ],
          "name": "stderr"
        },
        {
          "output_type": "stream",
          "text": [
            "Fold | Score\n",
            "1      0.8333333333333334\n",
            "2      0.5666666666666667\n",
            "3      0.0\n",
            "4      0.1\n",
            "5      0.2\n"
          ],
          "name": "stdout"
        },
        {
          "output_type": "display_data",
          "data": {
            "image/png": "[encoded data removed]",
            "text/plain": [
              "<Figure size 432x288 with 1 Axes>"
            ]
          },
          "metadata": {
            "tags": [],
            "needs_background": "light"
          }
        }
      ]
    },
    {
      "cell_type": "markdown",
      "metadata": {
        "id": "j7z1J7so_82Z"
      },
      "source": [
        "# Cancer Dataset"
      ]
    },
    {
      "cell_type": "code",
      "metadata": {
        "colab": {
          "base_uri": "https://localhost:8080/",
          "height": 437
        },
        "id": "Iie7Wzbv8rwQ",
        "outputId": "865855f1-df8f-4e0b-cf0e-c9f0cfa44d2a"
      },
      "source": [
        "df = pd.read_csv('cancer.csv').drop('id', axis = 1).drop('Unnamed: 32', axis = 1)\n",
        "df[['radius_mean', 'texture_mean', 'perimeter_mean',\n",
        "       'area_mean', 'smoothness_mean', 'compactness_mean', 'concavity_mean',\n",
        "       'concave points_mean', 'symmetry_mean', 'fractal_dimension_mean',\n",
        "       'radius_se', 'texture_se', 'perimeter_se', 'area_se', 'smoothness_se',\n",
        "       'compactness_se', 'concavity_se', 'concave points_se', 'symmetry_se',\n",
        "       'fractal_dimension_se', 'radius_worst', 'texture_worst',\n",
        "       'perimeter_worst', 'area_worst', 'smoothness_worst',\n",
        "       'compactness_worst', 'concavity_worst', 'concave points_worst',\n",
        "       'symmetry_worst', 'fractal_dimension_worst']] = StandardScaler().fit_transform(df[['radius_mean', 'texture_mean', 'perimeter_mean',\n",
        "       'area_mean', 'smoothness_mean', 'compactness_mean', 'concavity_mean',\n",
        "       'concave points_mean', 'symmetry_mean', 'fractal_dimension_mean',\n",
        "       'radius_se', 'texture_se', 'perimeter_se', 'area_se', 'smoothness_se',\n",
        "       'compactness_se', 'concavity_se', 'concave points_se', 'symmetry_se',\n",
        "       'fractal_dimension_se', 'radius_worst', 'texture_worst',\n",
        "       'perimeter_worst', 'area_worst', 'smoothness_worst',\n",
        "       'compactness_worst', 'concavity_worst', 'concave points_worst',\n",
        "       'symmetry_worst', 'fractal_dimension_worst']])\n",
        "\n",
        "\n",
        "cf = KFold(n_splits=5)\n",
        "score = dict()\n",
        "fold = 1\n",
        "for train_index, test_index in cf.split(df):\n",
        "  train, test = df.loc[train_index], df.loc[test_index]# train_test_split(df, random_state = 58)\n",
        "  train = train.set_index('diagnosis')\n",
        "  test = test.set_index('diagnosis')\n",
        "  clf = Lasso(alpha=0.20999999999999996)\n",
        "  clf.fit(train.T, test.T)\n",
        "  alpha = clf.coef_\n",
        "  class_alphas = dict()\n",
        "  features = set((train.index.values))\n",
        "  for class_name in train.index.values:\n",
        "    train_t = train.copy()\n",
        "    features.remove(class_name)\n",
        "    train_t.loc[list(features), train_t.columns] = [0 for i in range(train_t.loc[class_name, train_t.columns].shape[1])]\n",
        "    features.add(class_name)\n",
        "    class_alphas[class_name] = np.dot(train_t.T, alpha.T)\n",
        "  Y_pred = []\n",
        "  for i in range(test.values.shape[0]):\n",
        "    closest_class = None\n",
        "    min_dist = math.inf\n",
        "    for k, v in class_alphas.items():\n",
        "      d = ((test.values[i] - class_alphas[k].T[i])**2).sum()**0.5 \n",
        "      if d < min_dist:\n",
        "        closest_class = k\n",
        "        min_dist = d\n",
        "    Y_pred.append(closest_class)\n",
        "  score_1 = (np.array(Y_pred) == test.index.values).sum() / test.shape[0]\n",
        "  score[fold] = score_1\n",
        "  fold += 1\n",
        "\n",
        "print(\"Fold | Score\")\n",
        "for k, v in score.items():\n",
        "  print(k,\"    \", v)\n",
        "\n",
        "sns.lineplot(x=list(score.keys()), y=list(score.values()), marker=\"o\")\n",
        "plt.title(\"5 Fold Cross validation Score on Cancer dataset\")\n",
        "plt.show()"
      ],
      "execution_count": 9,
      "outputs": [
        {
          "output_type": "stream",
          "text": [
            "/usr/local/lib/python3.7/dist-packages/sklearn/model_selection/_split.py:296: FutureWarning: Setting a random_state has no effect since shuffle is False. This will raise an error in 0.24. You should leave random_state to its default (None), or set shuffle=True.\n",
            "  FutureWarning\n"
          ],
          "name": "stderr"
        },
        {
          "output_type": "stream",
          "text": [
            "Fold | Score\n",
            "1      0.7543859649122807\n",
            "2      0.7280701754385965\n",
            "3      0.6666666666666666\n",
            "4      0.7280701754385965\n",
            "5      0.6460176991150443\n"
          ],
          "name": "stdout"
        },
        {
          "output_type": "display_data",
          "data": {
            "image/png": "[encoded data removed]",
            "text/plain": [
              "<Figure size 432x288 with 1 Axes>"
            ]
          },
          "metadata": {
            "tags": [],
            "needs_background": "light"
          }
        }
      ]
    },
    {
      "cell_type": "markdown",
      "metadata": {
        "id": "WmqTxRKaEnbI"
      },
      "source": [
        "# seismic-bumps"
      ]
    },
    {
      "cell_type": "code",
      "metadata": {
        "colab": {
          "base_uri": "https://localhost:8080/",
          "height": 437
        },
        "id": "DBeR0nVnADXJ",
        "outputId": "0eb823d1-c245-47ae-8ff5-180c15e2011c"
      },
      "source": [
        "df = pd.read_csv('seismic-bumps.csv').drop('id', axis = 1)\n",
        "\n",
        "for i in df.columns:\n",
        "  if df[i].dtype == object:\n",
        "    df[i] = LabelEncoder().fit_transform(df[i])\n",
        "\n",
        "df[list(df.columns)[:-1]] = StandardScaler().fit_transform(df[list(df.columns)[:-1]])\n",
        "\n",
        "\n",
        "cf = KFold(n_splits=5)\n",
        "score = dict()\n",
        "fold = 1\n",
        "for train_index, test_index in cf.split(df):\n",
        "  train, test = df.loc[train_index], df.loc[test_index]# train_test_split(df, random_state = 58)\n",
        "  train = train.set_index('class')\n",
        "  test = test.set_index('class')\n",
        "  clf = Lasso(alpha=0.20999999999999996)\n",
        "  clf.fit(train.T, test.T)\n",
        "  alpha = clf.coef_\n",
        "  class_alphas = dict()\n",
        "  features = set((train.index.values))\n",
        "  for class_name in train.index.values:\n",
        "    train_t = train.copy()\n",
        "    features.remove(class_name)\n",
        "    train_t.loc[list(features), train_t.columns] = [0 for i in range(train_t.loc[class_name, train_t.columns].shape[1])]\n",
        "    features.add(class_name)\n",
        "    class_alphas[class_name] = np.dot(train_t.T, alpha.T)\n",
        "  Y_pred = []\n",
        "  for i in range(test.values.shape[0]):\n",
        "    closest_class = None\n",
        "    min_dist = math.inf\n",
        "    for k, v in class_alphas.items():\n",
        "      d = ((test.values[i] - class_alphas[k].T[i])**2).sum()**0.5 \n",
        "      if d < min_dist:\n",
        "        closest_class = k\n",
        "        min_dist = d\n",
        "    Y_pred.append(closest_class)\n",
        "  score_1 = (np.array(Y_pred) == test.index.values).sum() / test.shape[0]\n",
        "  score[fold] = score_1\n",
        "  fold += 1\n",
        "\n",
        "print(\"Fold | Score\")\n",
        "for k, v in score.items():\n",
        "  print(k,\"    \", v)\n",
        "\n",
        "sns.lineplot(x=list(score.keys()), y=list(score.values()), marker=\"o\")\n",
        "plt.title(\"5 Fold Cross validation Score on Seismic Dataset\")\n",
        "plt.show()"
      ],
      "execution_count": 13,
      "outputs": [
        {
          "output_type": "stream",
          "text": [
            "/usr/local/lib/python3.7/dist-packages/sklearn/model_selection/_split.py:296: FutureWarning: Setting a random_state has no effect since shuffle is False. This will raise an error in 0.24. You should leave random_state to its default (None), or set shuffle=True.\n",
            "  FutureWarning\n"
          ],
          "name": "stderr"
        },
        {
          "output_type": "stream",
          "text": [
            "Fold | Score\n",
            "1      0.7659574468085106\n",
            "2      0.7214700193423598\n",
            "3      0.8027079303675049\n",
            "4      0.8452611218568665\n",
            "5      0.7868217054263565\n"
          ],
          "name": "stdout"
        },
        {
          "output_type": "display_data",
          "data": {
            "image/png": "[encoded data removed]",
            "text/plain": [
              "<Figure size 432x288 with 1 Axes>"
            ]
          },
          "metadata": {
            "tags": [],
            "needs_background": "light"
          }
        }
      ]
    },
    {
      "cell_type": "markdown",
      "metadata": {
        "id": "rWL6gPTCriK6"
      },
      "source": [
        "# Yeast dataset"
      ]
    },
    {
      "cell_type": "code",
      "metadata": {
        "colab": {
          "base_uri": "https://localhost:8080/",
          "height": 505
        },
        "id": "zgTXUDf6nj_y",
        "outputId": "69dbe3b4-1ea5-4749-80c1-71fe3e803f5f"
      },
      "source": [
        "df = pd.read_csv('yeast.csv')\n",
        "\n",
        "for i in df.columns:\n",
        "  if df[i].dtype == object:\n",
        "    df[i] = LabelEncoder().fit_transform(df[i])\n",
        "\n",
        "df[list(df.columns)[:-1]] = StandardScaler().fit_transform(df[list(df.columns)[:-1]])\n",
        "\n",
        "\n",
        "cf = KFold(n_splits=5)\n",
        "score = dict()\n",
        "fold = 1\n",
        "for train_index, test_index in cf.split(df):\n",
        "  train, test = df.loc[train_index], df.loc[test_index]# train_test_split(df, random_state = 58)\n",
        "  train = train.set_index('class_protein_localization')\n",
        "  test = test.set_index('class_protein_localization')\n",
        "  clf = Lasso(alpha=0.20999999999999996)\n",
        "  clf.fit(train.T, test.T)\n",
        "  alpha = clf.coef_\n",
        "  class_alphas = dict()\n",
        "  features = set((train.index.values))\n",
        "  for class_name in train.index.values:\n",
        "    train_t = train.copy()\n",
        "    features.remove(class_name)\n",
        "    train_t.loc[list(features), train_t.columns] = [0 for i in range(train_t.loc[class_name, train_t.columns].shape[1])]\n",
        "    features.add(class_name)\n",
        "    class_alphas[class_name] = np.dot(train_t.T, alpha.T)\n",
        "  Y_pred = []\n",
        "  for i in range(test.values.shape[0]):\n",
        "    closest_class = None\n",
        "    min_dist = math.inf\n",
        "    for k, v in class_alphas.items():\n",
        "      d = ((test.values[i] - class_alphas[k].T[i])**2).sum()**0.5 \n",
        "      if d < min_dist:\n",
        "        closest_class = k\n",
        "        min_dist = d\n",
        "    Y_pred.append(closest_class)\n",
        "  score_1 = (np.array(Y_pred) == test.index.values).sum() / test.shape[0]\n",
        "  score[fold] = score_1\n",
        "  fold += 1\n",
        "\n",
        "print(\"Fold | Score\")\n",
        "for k, v in score.items():\n",
        "  print(k,\"    \", v)\n",
        "\n",
        "sns.lineplot(x=list(score.keys()), y=list(score.values()), marker=\"o\")\n",
        "plt.title(\"5 Fold Cross validation Score on Yeast Dataset\")\n",
        "plt.show()"
      ],
      "execution_count": 10,
      "outputs": [
        {
          "output_type": "stream",
          "text": [
            "/usr/local/lib/python3.7/dist-packages/sklearn/model_selection/_split.py:296: FutureWarning: Setting a random_state has no effect since shuffle is False. This will raise an error in 0.24. You should leave random_state to its default (None), or set shuffle=True.\n",
            "  FutureWarning\n",
            "/usr/local/lib/python3.7/dist-packages/sklearn/linear_model/_coordinate_descent.py:476: ConvergenceWarning: Objective did not converge. You might want to increase the number of iterations. Duality gap: 0.008525855368842039, tolerance: 0.004468022916299265\n",
            "  positive)\n",
            "/usr/local/lib/python3.7/dist-packages/sklearn/linear_model/_coordinate_descent.py:476: ConvergenceWarning: Objective did not converge. You might want to increase the number of iterations. Duality gap: 0.016130958949689522, tolerance: 0.009323284998811203\n",
            "  positive)\n"
          ],
          "name": "stderr"
        },
        {
          "output_type": "stream",
          "text": [
            "Fold | Score\n",
            "1      0.18181818181818182\n",
            "2      0.27946127946127947\n",
            "3      0.2255892255892256\n",
            "4      0.31313131313131315\n",
            "5      0.22972972972972974\n"
          ],
          "name": "stdout"
        },
        {
          "output_type": "display_data",
          "data": {
            "image/png": "[encoded data removed]",
            "text/plain": [
              "<Figure size 432x288 with 1 Axes>"
            ]
          },
          "metadata": {
            "tags": [],
            "needs_background": "light"
          }
        }
      ]
    },
    {
      "cell_type": "markdown",
      "metadata": {
        "id": "SdJnT9QpvGTM"
      },
      "source": [
        "# Leaf Dataset"
      ]
    },
    {
      "cell_type": "code",
      "metadata": {
        "colab": {
          "base_uri": "https://localhost:8080/",
          "height": 437
        },
        "id": "8md0a0E9te6S",
        "outputId": "2b20c134-feb9-47ae-9d3e-fa62750965f5"
      },
      "source": [
        "df = pd.read_csv('leaf.csv')\n",
        "\n",
        "for i in df.columns:\n",
        "  if df[i].dtype == object:\n",
        "    df[i] = LabelEncoder().fit_transform(df[i])\n",
        "\n",
        "df[list(df.columns)[:-1]] = StandardScaler().fit_transform(df[list(df.columns)[:-1]])\n",
        "\n",
        "\n",
        "cf = KFold(n_splits=5)\n",
        "score = dict()\n",
        "fold = 1\n",
        "for train_index, test_index in cf.split(df):\n",
        "  train, test = df.loc[train_index], df.loc[test_index]# train_test_split(df, random_state = 58)\n",
        "  train = train.set_index('Clas')\n",
        "  test = test.set_index('Clas')\n",
        "  clf = Lasso(alpha=0.20999999999999996)\n",
        "  clf.fit(train.T, test.T)\n",
        "  alpha = clf.coef_\n",
        "  class_alphas = dict()\n",
        "  features = set((train.index.values))\n",
        "  for class_name in train.index.values:\n",
        "    train_t = train.copy()\n",
        "    features.remove(class_name)\n",
        "    train_t.loc[list(features), train_t.columns] = [0 for i in range(train_t.loc[class_name, train_t.columns].shape[1])]\n",
        "    features.add(class_name)\n",
        "    class_alphas[class_name] = np.dot(train_t.T, alpha.T)\n",
        "  Y_pred = []\n",
        "  for i in range(test.values.shape[0]):\n",
        "    closest_class = None\n",
        "    min_dist = math.inf\n",
        "    for k, v in class_alphas.items():\n",
        "      d = ((test.values[i] - class_alphas[k].T[i])**2).sum()**0.5 \n",
        "      if d < min_dist:\n",
        "        closest_class = k\n",
        "        min_dist = d\n",
        "    Y_pred.append(closest_class)\n",
        "  score_1 = (np.array(Y_pred) == test.index.values).sum() / test.shape[0]\n",
        "  score[fold] = score_1\n",
        "  fold += 1\n",
        "\n",
        "print(\"Fold | Score\")\n",
        "for k, v in score.items():\n",
        "  print(k,\"    \", v)\n",
        "\n",
        "sns.lineplot(x=list(score.keys()), y=list(score.values()), marker=\"o\")\n",
        "plt.title(\"5 Fold Cross validation Score on Leaf Dataset\")\n",
        "plt.show()"
      ],
      "execution_count": 11,
      "outputs": [
        {
          "output_type": "stream",
          "text": [
            "/usr/local/lib/python3.7/dist-packages/sklearn/model_selection/_split.py:296: FutureWarning: Setting a random_state has no effect since shuffle is False. This will raise an error in 0.24. You should leave random_state to its default (None), or set shuffle=True.\n",
            "  FutureWarning\n"
          ],
          "name": "stderr"
        },
        {
          "output_type": "stream",
          "text": [
            "Fold | Score\n",
            "1      0.0\n",
            "2      0.0\n",
            "3      0.029411764705882353\n",
            "4      0.029411764705882353\n",
            "5      0.0\n"
          ],
          "name": "stdout"
        },
        {
          "output_type": "display_data",
          "data": {
            "image/png": "[encoded data removed]",
            "text/plain": [
              "<Figure size 432x288 with 1 Axes>"
            ]
          },
          "metadata": {
            "tags": [],
            "needs_background": "light"
          }
        }
      ]
    },
    {
      "cell_type": "code",
      "metadata": {
        "id": "g7ix5TVnxLV7"
      },
      "source": [
        ""
      ],
      "execution_count": null,
      "outputs": []
    }
  ]
}